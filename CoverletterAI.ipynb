{
 "cells": [
  {
   "cell_type": "code",
   "execution_count": null,
   "metadata": {},
   "outputs": [],
   "source": [
    "import os\n",
    "import sys\n",
    "import logging\n",
    "from langchain.chat_models import ChatOpenAI\n",
    "from langchain.prompts import PromptTemplate\n",
    "from langchain.chains import LLMChain\n",
    "\n",
    "# API 키 설정\n",
    "# os.environ[\"OPENAI_API_KEY\"] = \"당신의 API 키를 입력하세요\"\n",
    "# LLM 초기화\n",
    "llm = ChatOpenAI(model=\"gpt-4o-mini\", temperature=1.0)"
   ]
  },
  {
   "cell_type": "code",
   "execution_count": null,
   "metadata": {},
   "outputs": [],
   "source": [
    "# === 문서 로드 및 인덱스 생성 (RAG) ===\n",
    "# 문서 폴더 내에는 아래 데이터가 포함되어 있다고 가정.\n",
    "# 1. 합격 자소서 데이터, 2. 합격자 면접 데이터, 3. 업계 동향 데이터, 4. 업계 구인 데이터\n",
    "\n",
    "# 문서 로드를 위한 패키지\n",
    "from llama_index.core import VectorStoreIndex, SimpleDirectoryReader\n",
    "from llama_index.core import Document\n",
    "from llama_index.core import GPTVectorStoreIndex\n",
    "\n",
    "# 문서 로드 및 인덱스 생성\n",
    "# documents = SimpleDirectoryReader(\"데이터 파일들의 경로를 입력하세요\").load_data()\n",
    "\n",
    "index = GPTVectorStoreIndex.from_documents(documents)\n",
    "query_engine = index.as_query_engine()"
   ]
  },
  {
   "cell_type": "code",
   "execution_count": null,
   "metadata": {},
   "outputs": [],
   "source": [
    "# 참고 자료 검색: 자소서 분석 및 피드백에 유용한 자료를 외부 문서에서 추출\n",
    "reference_query = (\n",
    "    \"합격 자소서, 합격자 면접, 업계 동향, 구인 데이터를 참고하여, \"\n",
    "    \"자소서 작성 피드백에 유용한 핵심 인사이트를 간략히 요약해줘.\"\n",
    ")\n",
    "reference_result = query_engine.query(reference_query)\n",
    "\n",
    "# 지원 기업 관련 산업 뉴스 데이터 추출 (지원 기업 및 관련 키워드 활용)\n",
    "company = \"A기업\"\n",
    "industry_news_query = (\n",
    "    f\"{company} 관련 산업 뉴스, 최신 동향, 전략 및 이슈\"\n",
    ")\n",
    "industry_news_result = query_engine.query(industry_news_query)\n",
    "\n",
    "\n",
    "# 두 결과를 결합하여 참고 자료로 활용\n",
    "combined_reference = f\"{reference_result}\\n\\n[산업 뉴스 참고]:\\n{industry_news_result}\"\n"
   ]
  },
  {
   "cell_type": "code",
   "execution_count": null,
   "metadata": {},
   "outputs": [],
   "source": [
    "## 여기부터 실행\n",
    "\n",
    "# === 자소서 분석 체인 프롬프트 템플릿 ===\n",
    "init_prompt = PromptTemplate(\n",
    "    input_variables=[\"참고자료\"],\n",
    "    template=\"\"\"\n",
    "    이전 대화 내용을 무시하고, 아래에 제공된 정보만을 기반으로 분석을 수행해 주세요.\n",
    "    이후에 입력하는 내용을 기반으로 자소서 분석, 조언, 피드백을 제공해주세요.\n",
    "    --------------------------------------\n",
    "    {참고자료} \n",
    "    --------------------------------------\n",
    "    \"\"\"\n",
    ")"
   ]
  },
  {
   "cell_type": "code",
   "execution_count": null,
   "metadata": {},
   "outputs": [],
   "source": [
    "# === 수정된 분석 체인 프롬프트 템플릿 (회사, 직무 정보 포함 및 적합성 체크) ===\n",
    "analysis_prompt = PromptTemplate(\n",
    "    input_variables=[\"자소서내용\", \"참고자료\", \"회사\", \"직무\"],\n",
    "    template=\"\"\"\n",
    "사용자가 입력한 자소서 내용은 다음과 같습니다:\n",
    "--------------------------------------\n",
    "{자소서내용}\n",
    "--------------------------------------\n",
    "아래의 참고 자료는 합격 자소서, 면접 데이터, 업계 동향, 구인 데이터 및 지원 기업 관련 산업 뉴스에서 추출된 인사이트입니다:\n",
    "--------------------------------------\n",
    "{참고자료}\n",
    "--------------------------------------\n",
    "또한, 사용자가 지원하는 회사는 \"{회사}\"이며 희망 직무는 \"{직무}\"입니다.\n",
    "위 정보를 종합하여, 다음 사항들을 분석하고, 예상 합격/불합격 여부를 알려주고 점수도 내줘(예 : 8.0/10 ).:\n",
    "자소서에 나타난 강점과 약점을 각각 3가지씩 구체적으로 제시\n",
    "자소서 내용이 지원하는 회사와 희망 직무에 얼마나 부합하는지 평가하고, 개선이 필요한 부분(예: 지원 동기, 관련 경험, 역량 표현 등)을 구체적으로 지적해줘.\n",
    "예시) 강점: [문제 해결 능력, 팀워크 등] / 약점: [경험 부족, 구체성 부족 등] / 적합성 평가: [지원 동기 보완 필요 등]\n",
    "\"\"\"\n",
    ")"
   ]
  },
  {
   "cell_type": "code",
   "execution_count": null,
   "metadata": {},
   "outputs": [],
   "source": [
    "# === 조언 체인 프롬프트 템플릿 (회사, 직무 정보 추가) ===\n",
    "advice_prompt = PromptTemplate(\n",
    "    input_variables=[\"분석결과\", \"회사\", \"직무\"],\n",
    "    template=\"\"\"\n",
    "아래 분석 결과와 지원 정보(지원 회사 및 직무)를 참고하여, 자소서 개선 및 보완을 위한 구체적인 조언을 작성해줘.\n",
    "분석 결과:\n",
    "--------------------------------------\n",
    "{분석결과}\n",
    "--------------------------------------\n",
    "지원 정보:\n",
    "- 지원하는 회사: {회사}\n",
    "- 지원하는 직무: {직무}\n",
    "\n",
    "조언은 실제 자소서에 적용 가능한 수정 방안과 개선 방향을 상세하게 제시하고, 지원 회사와 직무에 맞는 어필 포인트를 반영해줘.\n",
    "\"\"\"\n",
    ")"
   ]
  },
  {
   "cell_type": "code",
   "execution_count": null,
   "metadata": {},
   "outputs": [],
   "source": [
    "# === 자기소개서 예시 출력 프롬프트 템플릿 (회사, 직무 정보 포함) ===\n",
    "example_prompt = PromptTemplate(\n",
    "    input_variables=[\"조언결과\", \"회사\", \"직무\"],\n",
    "    template=\"\"\"\n",
    "아래 조언 결과를 바탕으로, 실제 지원자가 제출할 수 있는 자기소개서 예시를 작성해줘.\n",
    "자기소개서는 다음과 같은 구조를 갖추어야 합니다:\n",
    "1. **지원동기 및 비전:** 지원 동기, 본인의 비전, 그리고 지원 회사({회사}) 및 직무({직무})와의 시너지를 명확히 서술\n",
    "2. **경험 및 역량:** 학습, 동아리/프로젝트 경험, 보유 기술 및 역량을 구체적으로 기술\n",
    "3. **강점 및 보완 사항:** 분석된 강점을 부각시키고, 약점을 개선하기 위한 구체적인 실행 계획 제시\n",
    "4. **향후 계획:** 입사 후 성장 방향과 목표\n",
    "\n",
    "각 항목별로 소제목을 붙여 자기소개서 형식(각 섹션별로 구분)으로 작성해줘.\n",
    "아래 조언 결과:\n",
    "--------------------------------------\n",
    "{조언결과}\n",
    "--------------------------------------\n",
    "자기소개서 예시:\n",
    "\"\"\"\n",
    ")"
   ]
  },
  {
   "cell_type": "code",
   "execution_count": null,
   "metadata": {},
   "outputs": [],
   "source": [
    "# 체인 생성: 분석 체인, 조언 체인, 예시 출력 체인\n",
    "init_chain = LLMChain(llm=llm, prompt=init_prompt)\n",
    "analysis_chain = LLMChain(llm=llm, prompt=analysis_prompt)\n",
    "advice_chain = LLMChain(llm=llm, prompt=advice_prompt)\n",
    "example_chain = LLMChain(llm=llm, prompt=example_prompt)"
   ]
  },
  {
   "cell_type": "code",
   "execution_count": null,
   "metadata": {},
   "outputs": [],
   "source": [
    "# === 사용자의 입력 ===\n",
    "user_self_intro = \"\"\"\n",
    "안녕하세요, 저는 컴퓨터공학과를 전공하고 있는 학생입니다.\n",
    "프로그래밍을 좋아하고, 다양한 프로젝트를 진행하며 실력을 키워왔습니다.\n",
    "지원 회사인 가비아에서 소프트웨어 엔지니어로 일하고 싶습니다.\n",
    "\n",
    "\"\"\"\n",
    "\n",
    "# 추가 입력: 지원하는 회사와 직무\n",
    "company = \"가비아\"\n",
    "job_position = \"소프트웨어 엔지니어\""
   ]
  },
  {
   "cell_type": "code",
   "execution_count": null,
   "metadata": {},
   "outputs": [],
   "source": [
    "# 0. 초기화 체인: 이전 프롬프트의 내용을 초기화하여 새로운 프롬프트 \n",
    "init_result = init_chain.run(\n",
    "    참고자료=combined_reference\n",
    ")"
   ]
  },
  {
   "cell_type": "code",
   "execution_count": null,
   "metadata": {},
   "outputs": [],
   "source": [
    "# 1. 분석 체인 실행: 자소서 내용과 참고 자료, 지원 정보를 기반으로 강점/약점 및 적합성 평가\n",
    "analysis_result = analysis_chain.run(\n",
    "    자소서내용=user_self_intro,\n",
    "    참고자료=combined_reference,\n",
    "    회사=company,\n",
    "    직무=job_position\n",
    ")\n",
    "print(\"=== 분석 결과 ===\")\n",
    "print(analysis_result)"
   ]
  },
  {
   "cell_type": "code",
   "execution_count": null,
   "metadata": {},
   "outputs": [],
   "source": [
    "# 2. 조언 체인 실행: 분석 결과와 지원 정보를 기반으로 개선 조언 생성\n",
    "advice_result = advice_chain.run(\n",
    "    분석결과=analysis_result,\n",
    "    회사=company,\n",
    "    직무=job_position\n",
    ")\n",
    "print(\"\\n=== 조언 결과 ===\")\n",
    "print(advice_result)"
   ]
  },
  {
   "cell_type": "markdown",
   "metadata": {},
   "source": [
    "# 3. 예시 출력 체인 실행: 조언 결과와 지원 정보를 반영한 자기소개서 예시 생성\n",
    "example_self_intro = example_chain.run(\n",
    "    조언결과=advice_result,\n",
    "    회사=company,\n",
    "    직무=job_position\n",
    ")\n",
    "print(\"\\n=== 자기소개서 예시 ===\")\n",
    "print(example_self_intro)"
   ]
  }
 ],
 "metadata": {
  "language_info": {
   "name": "python"
  }
 },
 "nbformat": 4,
 "nbformat_minor": 2
}
